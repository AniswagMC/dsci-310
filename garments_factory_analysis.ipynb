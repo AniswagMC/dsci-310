{
 "cells": [
  {
   "cell_type": "markdown",
   "id": "6d0daf1b-b8f7-47c1-8ccf-55ea70170cf8",
   "metadata": {},
   "source": [
    "# Predicting A Garment Factory's Productivity #\n",
    "### By: Kevin Yu, Zhuoran (Serena) Feng, Fiona Chang, Justin Wong ###"
   ]
  },
  {
   "cell_type": "markdown",
   "id": "d3916d1c-cb2e-421e-b67b-cef9e012d2f2",
   "metadata": {},
   "source": [
    "## Introduction ##\n",
    "The trillion-dollar garment industry is largely fueled by the production and performance of employees that work in manufacturing companies as a labor-intensive, low-skilled industry (Hamja et al., 2019). As the industry is driven by ever-changing consumer demands and fashion trends, the need for manual processes is inevitable. Through statistical inference, we seek to dig deeper into the relationship between important attributes of the garment manufacturing process and its employees’ productivity in the following question: **What factors affect the productivity of a garment factory?** \n",
    "\n",
    "The studies: “Enhancing Efficiency and Productivity of Garment Industry by Using Different Techniques” (Rajput et al., 2018) and “The Effect of Lean on Occupational Health and Safety and Productivity in the Garment Industry” (Hamja et al., 2019) will be utilized to help frame our exploration into this data set and provide useful context of the garment industry.\n"
   ]
  },
  {
   "cell_type": "markdown",
   "id": "08eae204-7888-455f-a44b-b900faa44612",
   "metadata": {},
   "source": [
    "### Attribute Information ###\n",
    "The data set we will use, called Productivity Prediction of Garment Employees, is sourced from Kaggle.com and outlines following variables that will guide us in answering our question:\n",
    "- `date`: Date in MM-DD-YYYY\n",
    "- `quarter`: A portion of a month, where each month was divided into 4 quarters\n",
    "- `department`: Associated department\n",
    "- `day`: Day of the week\n",
    "- `team`: Associated team number\n",
    "- `targeted_productivity_set`: Daily target productivity set by authority\n",
    "- `smv`: Standard Minute Value; allocated time for a task\n",
    "- `wip`: Work in progress; includes number of unfinished items for products\n",
    "- `over_time`: amount of overtime by each team (minutes)\n",
    "- `Incentive`: amount of financial incentive in BDT (Bangladeshi currency)\n",
    "- `idle_time`: amount of time where production was interrupted\n",
    "- `Idle_men`: number of workers idle due to interrupted production\n",
    "- `no_of_style_changes`: number of style changes\n",
    "- `no_of_workers`: number of workers in given team\n",
    "- `actual_productivity`: actual % of productivity delivered\n",
    "\n",
    "From this list, `date` and `team` were excluded in our analysis as they are identifiers for the observation, hence not the interest for our research question."
   ]
  },
  {
   "cell_type": "markdown",
   "id": "16fcac6c-a1f2-4cc4-aa36-128f71fbee11",
   "metadata": {},
   "source": [
    "# Methods and Results #"
   ]
  },
  {
   "cell_type": "markdown",
   "id": "e2c5c2ea-eaa6-4c82-8cc6-bdfce7ea3f4b",
   "metadata": {},
   "source": [
    "## Preliminary Results ##"
   ]
  },
  {
   "cell_type": "code",
   "execution_count": null,
   "id": "2bad1b9c",
   "metadata": {},
   "outputs": [],
   "source": [
    "# Install Packages\n",
    "\n",
    "# install.packages(\"tidyverse\")\n",
    "# install.packages(\"broom\")\n",
    "# install.packages(\"GGally\")\n",
    "# install.packages(\"leaps\")\n",
    "# install.packages(\"faraway\")\n",
    "# install.packages(\"mltools\")\n",
    "# install.packages('glmnet')"
   ]
  },
  {
   "cell_type": "code",
   "execution_count": null,
   "id": "aa85ba58",
   "metadata": {},
   "outputs": [],
   "source": [
    "# Load Libraries\n",
    "suppressPackageStartupMessages({\n",
    "library(tidyverse)\n",
    "library(broom)\n",
    "library(GGally)\n",
    "library(leaps)\n",
    "library(repr)\n",
    "library(digest)\n",
    "library(faraway)\n",
    "library(mltools)\n",
    "library(glmnet)\n",
    "    })"
   ]
  },
  {
   "cell_type": "code",
   "execution_count": null,
   "id": "a18f28f3",
   "metadata": {},
   "outputs": [],
   "source": [
    "# Download file from data folder\n",
    "data<-read_csv(\"./data/garments_worker_productivity.csv\", show_col_types = FALSE)\n",
    "cat(\"Table 1: Initial Dataset\")\n",
    "head(data,3)"
   ]
  },
  {
   "cell_type": "code",
   "execution_count": null,
   "id": "675c7d33",
   "metadata": {},
   "outputs": [],
   "source": [
    "# Cleaning the dataset\n",
    "data.filtered <- data %>%\n",
    "    select(-date, -team) %>% # removing variables not used (date and team)\n",
    "    mutate(wip = ifelse((is.na(wip)), 0, wip)) %>% \n",
    "    mutate(department = ifelse((department == \"finishing \"), \"finishing\", department)) %>% # fixing typos for \"finishing\"\n",
    "    mutate(department = ifelse((department == \"sweing\"), \"sewing\", department)) %>% # fixing typos for \"sewing\"\n",
    "    mutate(department = as.factor(department)) %>% # change department variable to a factor\n",
    "    mutate(day = if_else(day %in% c(\"Monday\", \"Tuesday\", \"Wednesday\", \"Thursday\"), \"Weekday\", \"Weekend\")) %>% # editing day variable\n",
    "    mutate(half = if_else(quarter %in% c(\"Quarter1\", \"Quarter2\"), \"Half1\", \"Half2\")) %>% # creating quarter variable using quarter variable\n",
    "    select(-quarter)        %>%\n",
    "    mutate(day = as.factor(day)) %>% # change day variable to a factor\n",
    "    mutate(half = as.factor(half)) # change half variable to a factor\n",
    "   \n",
    "cat(\"Table 2: Modified Dataset\")\n",
    "head(data.filtered,3)"
   ]
  },
  {
   "cell_type": "markdown",
   "id": "d0b4ac35-249f-4c1a-aa0e-d2429f4f8503",
   "metadata": {},
   "source": [
    "Both the categorical variables `day` and `quarter` were edited becasue they have more than two levels, which leads to difficulties in conducting forward selection. Based on this, `day` was changed into two levels: Weekday and Weekend. Similarilily, `quarter` was used to create the variable `half` with two levels."
   ]
  },
  {
   "cell_type": "code",
   "execution_count": null,
   "id": "b8d96bb5-6835-4066-968c-4229c31b28b1",
   "metadata": {
    "tags": []
   },
   "outputs": [],
   "source": [
    "# Complete ggpairs for all data\n",
    "options(repr.plot.width = 15, repr.plot.height = 10) \n",
    "\n",
    "pair_plots <-ggpairs(data.filtered) +\n",
    "  theme(\n",
    "    text = element_text(size = 15),\n",
    "    plot.title = element_text(face = \"bold\"),\n",
    "    axis.title = element_text(face = \"bold\")\n",
    "  )\n",
    "cat(\"Figure 1: ggpairs Plot\")\n",
    "suppressWarnings(suppressMessages(print(pair_plots)))"
   ]
  },
  {
   "cell_type": "markdown",
   "id": "52ca3ce8-3218-4a1a-88d9-da9522f37288",
   "metadata": {},
   "source": [
    "From this plot, we can analyze the correlation values between the variables that we are using in our analysis. Based on the correlation values, there appears to be correlation between input variables, which will be addressed later in the analysis.\n",
    "Variables with relatively high correlations include `no_of_workers` and `smv`(0.912), `no_of_workers` and `over_time` (0.734), and `over_time` and `smv` (0.675)."
   ]
  },
  {
   "cell_type": "code",
   "execution_count": null,
   "id": "6e25df67",
   "metadata": {},
   "outputs": [],
   "source": [
    "# Checking Multicolinarity with vif\n",
    "vif(data.filtered%>% data.matrix())    "
   ]
  },
  {
   "cell_type": "markdown",
   "id": "4c0dde60",
   "metadata": {},
   "source": [
    "There are three variables with a vif of over five: `department` , `smv`, and `no_of_workers`. This indicates that the dataset has an issue of multicollinearity. To address this, the variable with the largest vif (`no_of_workers`) will be removed from our analysis."
   ]
  },
  {
   "cell_type": "code",
   "execution_count": null,
   "id": "b6d77dd2",
   "metadata": {},
   "outputs": [],
   "source": [
    "# Remove no_of_workers from data\n",
    "data.filtered<-data.filtered %>% select(-no_of_workers)"
   ]
  },
  {
   "cell_type": "code",
   "execution_count": null,
   "id": "08a66cd6",
   "metadata": {},
   "outputs": [],
   "source": [
    "# Checking Multicolinarity with vif without no_of_workers\n",
    "vif(data.filtered %>% data.matrix())"
   ]
  },
  {
   "cell_type": "markdown",
   "id": "26f3af12",
   "metadata": {},
   "source": [
    "Removing`no_of_workers` from the dataset helped reduce the multicollinearity in our data, since there are no variables with vif larger than five in the adjusted data."
   ]
  },
  {
   "cell_type": "code",
   "execution_count": null,
   "id": "67d56922-370d-4ad8-bd31-0eb08d6bda32",
   "metadata": {},
   "outputs": [],
   "source": [
    "options(repr.plot.width = 10, repr.plot.height = 4)\n",
    "\n",
    "# Boxplot comparing the actual productivity of different day to analyze mean + variance\n",
    "day_boxplot <- data.filtered %>%\n",
    "  ggplot(aes(x = day, y = actual_productivity)) +\n",
    "  geom_boxplot()+\n",
    " ggtitle(\"Actual Productivity by Day of the Week\")+\n",
    "  labs(x = \"Weekend/Weekday\") +\n",
    "  labs(y = \"Actual Productivity\")+\n",
    "    theme(text = element_text(size = 20),\n",
    "          plot.title = element_text(face = \"bold\"),\n",
    "          axis.title = element_text(face = \"bold\") )\n",
    "cat(\"Figure 2: Actual Productivity by Day of the Week Boxplot\")\n",
    "day_boxplot\n",
    "\n",
    "\n",
    "# Boxplot to compare the actual productivity of different halves \n",
    "half_boxplot <- data.filtered %>%\n",
    "  ggplot(aes(x = half, y = actual_productivity)) +\n",
    "  geom_boxplot() +\n",
    " ggtitle(\"Actual Productivity by Half\")+\n",
    "  labs(x = \"Half\") +\n",
    "  labs(y = \"Actual Productivity\")+\n",
    "    theme(text = element_text(size = 20),\n",
    "          plot.title = element_text(face = \"bold\"),\n",
    "          axis.title = element_text(face = \"bold\") )\n",
    "half_boxplot\n",
    "cat(\"Figure 3: Actual Productivity by Half Boxplot\")\n",
    "\n",
    "# Boxplot to compare the actual productivity of different departments.\n",
    "department_boxplot <- data.filtered %>%\n",
    "  ggplot(aes(x = department, y = actual_productivity)) +\n",
    "  geom_boxplot() +\n",
    "    ggtitle(\"Actual Productivity of Departments\")+\n",
    "  labs(x = \"Department\") +\n",
    "  labs(y = \"Actual Productivity\")+\n",
    "    theme(text = element_text(size = 20),\n",
    "          plot.title = element_text(face = \"bold\"),\n",
    "          axis.title = element_text(face = \"bold\") )\n",
    "department_boxplot\n",
    "cat(\"Figure 4: Actual Productivity of Departments Boxplot\")\n"
   ]
  },
  {
   "cell_type": "markdown",
   "id": "7a619cec-9c1a-4f2d-8d38-f692de35a40a",
   "metadata": {},
   "source": [
    "The above boxplots show the medians and variances of the discrete factors of interest. Since the above plots show that there are differences in the medians and variances of the factors of interest, it is justified to keep these factors in our analysis for future investigation.\n",
    "\n"
   ]
  },
  {
   "cell_type": "code",
   "execution_count": null,
   "id": "ca845552-7db3-4a53-8d8a-e52ef959098e",
   "metadata": {},
   "outputs": [],
   "source": [
    "options(repr.plot.width = 10, repr.plot.height = 5)\n",
    "\n",
    "# Histogram for Actual Productivity\n",
    "actual_productivity_distribution <- data.filtered %>%\n",
    "                                      ggplot(aes(x = actual_productivity)) +\n",
    "                                      geom_histogram(bins = 20) +\n",
    "                                    ggtitle(\"Distribution of Actual Productivity\")+\n",
    "                                      labs(x = \"Actual Productivity\") +\n",
    "                                      labs(y = \"Frequency\")+ theme(\n",
    "                                        text = element_text(size = 20),\n",
    "                                        plot.title = element_text(face = \"bold\"),\n",
    "                                        axis.title = element_text(face = \"bold\") )\n",
    "cat(\"Figure 5: Distribution of Actual Productivity\")\n",
    "actual_productivity_distribution"
   ]
  },
  {
   "cell_type": "markdown",
   "id": "3d4ebc3a-fa87-44ca-8f3d-c8084bd81b4c",
   "metadata": {},
   "source": [
    "Since, the distribution of the actual productivity doesn't seem to have a normal distribution and is slightly left-skewed, an assumption of normality is likely needed in our analysis."
   ]
  },
  {
   "cell_type": "code",
   "execution_count": null,
   "id": "aa99722d-5737-4522-a900-d0e7d0eb2370",
   "metadata": {},
   "outputs": [],
   "source": [
    "# Checking the normalitiy of the actual_productivity (response variable)\n",
    "cat(\"Figure 5: Q-Q Plot of Actual Productivity\")\n",
    "qqnorm(data.filtered$actual_productivity)\n",
    "qqline(data.filtered$actual_productivity)"
   ]
  },
  {
   "cell_type": "markdown",
   "id": "c0c4cd27",
   "metadata": {},
   "source": [
    "The above Q-Q plot was used to determine whether a normality assumption on our response variable is valid, since it is an assumption required for tests used later on. There appears to be tails on both ends, which suggests a left-skewness of the data. Unfortunately, while we have tried different transformations of the data, it did not improve the skewness of this Q-Q plot. So based on what we have learned in this class, we will have to assume normality of the data even though it is a major stretch."
   ]
  },
  {
   "cell_type": "code",
   "execution_count": null,
   "id": "15b71343-a284-4c24-b21b-f0d327dbf51b",
   "metadata": {},
   "outputs": [],
   "source": [
    "# summary table of actual_productivity for different halves and departments\n",
    "summary_table_1 <- data.filtered %>%\n",
    "                   group_by(half, department) %>%\n",
    "                   summarise(count = n(),\n",
    "                             mean = mean(actual_productivity),\n",
    "                             median = median(actual_productivity), \n",
    "                             min = min(actual_productivity),\n",
    "                             max = max(actual_productivity),\n",
    "                             sd = sd(actual_productivity), \n",
    "                            .groups = 'keep'\n",
    "                            )\n",
    "cat(\"Table 3: Summary of Actual Productivity for Halves and Departments\")\n",
    "summary_table_1"
   ]
  },
  {
   "cell_type": "markdown",
   "id": "11bb9fc7-7413-45e4-86c5-eb0f5acbe2e2",
   "metadata": {},
   "source": [
    "This table provides relevant summaries of our data, split into different quarters and departments. Overall, the data seems to be relatively consistent, with a few things to note:\n",
    "\n",
    "- The relative means and medians are fairly consistent throughout the different departments and halves.\n",
    "- The standard deviation for the finishing department is slightly larger than the sewing department."
   ]
  },
  {
   "cell_type": "markdown",
   "id": "ad68bf94-f349-42ab-b6d0-c93195c592fe",
   "metadata": {},
   "source": [
    "## Methods: Plan ##\n",
    "The data set used is trustworthy and reliable since multiple published academic papers used this data set (Imran et al (2019), Rahim et al (2021)). \n",
    "\n",
    "Using the data set, we plan to analyze what factors are the most important in productivity. Linear regression will be used to determine the best inference model for the actual productivity of the factory. Using forward selection and LASSO, we plan to compare different models and determine which factors are the best in explaining relationships between the factors and the actual productivity of the garment factory. Additionally, we plan to test our optimal inference model’s performance by splitting the data into training and testing and comparing the corresponding adjusted $R^2$ values with the full model.\n",
    "\n",
    "We expect that factors such as number of members on the team and targeted productivity may have a higher association with actual productivity. Thus, we expect these factors to be present in the best model for explaining the relationship with the actual productivity.\n",
    "\n",
    "The results from this report could provide insights to companies in the garment manufacturing sector. Having knowledge on what factors may increase productivity is crucial for any successful business."
   ]
  },
  {
   "cell_type": "markdown",
   "id": "6736bbc5-3220-4dd1-97b8-9d19c1e9c652",
   "metadata": {},
   "source": [
    "## Results ##"
   ]
  },
  {
   "cell_type": "markdown",
   "id": "576d0545-15bc-45ec-ba4b-d72b88799c70",
   "metadata": {},
   "source": [
    "### Generating the Model with Forward Selection ###"
   ]
  },
  {
   "cell_type": "code",
   "execution_count": null,
   "id": "038806bc",
   "metadata": {},
   "outputs": [],
   "source": [
    "# Split the data into two datasets: training dataset (75%) and testing dataset (25%)\n",
    "\n",
    "set.seed(20221127)\n",
    "data.filtered$ID <- 1:nrow(data.filtered)\n",
    "training_data <- sample_n(data.filtered, size = nrow(data.filtered) * 0.75,\n",
    "                          replace = FALSE\n",
    ")\n",
    "\n",
    "testing_data <- anti_join(data.filtered,\n",
    "                          training_data,\n",
    "                          by = \"ID\"\n",
    ")\n",
    "\n",
    "#Remove ID varaible\n",
    "training_data <- training_data[, -13]\n",
    "testing_data <- testing_data [, -13]\n",
    "cat(\"Table 4: Training Data\")\n",
    "head(training_data, 3)\n",
    "#nrow(training_data)\n",
    "\n",
    "cat(\"Table 5: Testing Data\")\n",
    "head(testing_data, 3)\n",
    "#nrow(testing_data)"
   ]
  },
  {
   "cell_type": "code",
   "execution_count": null,
   "id": "980d4311",
   "metadata": {},
   "outputs": [],
   "source": [
    "# Use forward selection to select models with different number of input variables\n",
    "model_forward_sel <- regsubsets(\n",
    "  x = actual_productivity ~ .,\n",
    "  nvmax = 12,\n",
    "  data = training_data,\n",
    "  method = \"forward\")\n",
    "\n",
    "model_forward_summary <- summary(model_forward_sel)\n",
    "model_forward_summary"
   ]
  },
  {
   "cell_type": "code",
   "execution_count": null,
   "id": "1ef01420-a953-4c47-bfa7-e908839250c8",
   "metadata": {},
   "outputs": [],
   "source": [
    "# store and examine different evaluation metrics contained in model_forward_summary\n",
    "model_forward_summary_df <- tibble(\n",
    "  n_input_variables = 1:11,\n",
    "  RSQ = model_forward_summary$rsq,\n",
    "  RSS = model_forward_summary$rss,\n",
    "  ADJ.R2 = model_forward_summary$adjr2\n",
    ")\n",
    "cat(\"Table 6: Evaluation Metrics for Forward Selection\")\n",
    "model_forward_summary_df\n",
    "\n",
    "#format(model_forward_summary$adjr2, scientific = TRUE)"
   ]
  },
  {
   "cell_type": "markdown",
   "id": "6ba6a3f7-15e0-465f-b7f4-8bb85d325b92",
   "metadata": {},
   "source": [
    "Adjusted $R^2$ was chosen as the metric used for model selection because it is best suited for our inference model. It compensates for the reduction of the RSS of a larger model making it a more suitable metric than $R^2$.\n",
    "\n",
    "As shown by the table above, the model with 6 input variables has the highest adj $R^2$ (0.23266), thus this model is chosen as the optimal model. However, its adjusted $R^2$ value is not relatively higher than many of the other models, suggesting that the model may be only slightly better than the others. The selected model will be compared with the full model to test this observation.\n"
   ]
  },
  {
   "cell_type": "markdown",
   "id": "5349f887-41f5-41c0-aab7-e0c25e9236d7",
   "metadata": {},
   "source": [
    "The variables selected in the model with 6 input variables  were: `targeted_productivity`, `smv`, `wip`, `incentive`, `idle_men`, and `no_of_style_change`. "
   ]
  },
  {
   "cell_type": "code",
   "execution_count": null,
   "id": "2e83ce1c-043f-408b-a968-e8dcc4907f7e",
   "metadata": {},
   "outputs": [],
   "source": [
    "# Find Adj R^2 for chosen optimal model\n",
    "cat(\"Table 7: Summary Table for Selected Model\")\n",
    "model_selected_1 <- lm(actual_productivity ~ targeted_productivity +\n",
    "                    smv + wip + incentive + idle_men + no_of_style_change, \n",
    "                    data = training_data)\n",
    "model_selected_summary_1 <- tidy(model_selected_1)\n",
    "model_selected_summary_1\n",
    "\n",
    "\n",
    "adj_r_squared_1 <- summary(model_selected_1)$adj.r.squared \n",
    "cat(\"Adjusted R^2 for Selected Model:\")\n",
    "adj_r_squared_1"
   ]
  },
  {
   "cell_type": "code",
   "execution_count": null,
   "id": "e17e196e",
   "metadata": {},
   "outputs": [],
   "source": [
    "# Checking assumptions of selected model\n",
    "cat(\"Figure 7: Residuals and Q-Q Plot of Selected Model\")\n",
    "plot(model_selected_1, 1:2)"
   ]
  },
  {
   "cell_type": "markdown",
   "id": "9a681604",
   "metadata": {},
   "source": [
    "The residual plot and the Q-Q plot suggests some violations of assumptions needed for our analysis. The residual plot shows slight heteroskedasticity within our model, which violates our equal variance assumption, and the q-q plot suggests a violation in our normality assumption. "
   ]
  },
  {
   "cell_type": "code",
   "execution_count": null,
   "id": "37cf21e8-1d6e-4a56-bbb4-68ed9660d77c",
   "metadata": {},
   "outputs": [],
   "source": [
    "# Find Adj R^2 for chosen full model for future comparison with chosen model\n",
    "cat(\"Table 8: Summary Table for Full Model\")\n",
    "full_model <- lm(actual_productivity ~ ., data = training_data)\n",
    "full_model_summary <- tidy(full_model, 0.95, conf.int = TRUE)\n",
    "full_model_summary\n",
    "\n",
    "adj_r_squared_full <- summary(full_model)$adj.r.squared \n",
    "cat(\"Adjusted R^2 for Full Model:\")\n",
    "adj_r_squared_full"
   ]
  },
  {
   "cell_type": "markdown",
   "id": "c5bd992a-6c70-4cfb-bbd9-e69858cccc87",
   "metadata": {},
   "source": [
    "The adjusted $R^2$ of the selected model (0.2327) is slightly larger than (0.2300) the full model. This further suggests the selected model is not significantly better than the full model. An F-test will be conducted to test this observation."
   ]
  },
  {
   "cell_type": "code",
   "execution_count": null,
   "id": "0942dab9-6684-4d37-b1cd-b078fe133eef",
   "metadata": {},
   "outputs": [],
   "source": [
    "# F-test for the full model and the selected model \n",
    "cat(\"Table 9: F-test for Full and Selected Model\")\n",
    "anova(model_selected_1, full_model)"
   ]
  },
  {
   "cell_type": "markdown",
   "id": "acf2c32d-4e67-405b-909e-de306e8dba96",
   "metadata": {},
   "source": [
    "Since the p-value is 0.852, at a 5% significance level, there is not enough evidence to reject the null hypothesis that the selected model performs better than the full model."
   ]
  },
  {
   "cell_type": "code",
   "execution_count": null,
   "id": "e4185457-00c1-4968-937a-388461a05be3",
   "metadata": {},
   "outputs": [],
   "source": [
    "# Testing Selected Model with Testing Data\n",
    "cat(\"Table 9: Summary Table for Selected Model with Testing Data\")\n",
    "model_1 <- lm(actual_productivity ~ targeted_productivity +\n",
    "                    smv + wip + incentive + idle_men + no_of_style_change, ,\n",
    "              data = testing_data)\n",
    "model_summary <- tidy(model_1)\n",
    "model_summary\n",
    "\n",
    "adj_r_squared <- summary(model_1)$adj.r.squared \n",
    "cat(\"Adjusted R^2 for Selected Model Using Testing Data:\")\n",
    "adj_r_squared"
   ]
  },
  {
   "cell_type": "markdown",
   "id": "93a1e448",
   "metadata": {},
   "source": [
    "The adjusted $R^2$ suggests that about 17% of the adjusted variation in the response is explained by model. This indicates that the model performs fairly poorly. However, since it was the best model according to our analysis it may suggest that further exploration of this topic is needed. Thus, model selection using LASSO is conducted next."
   ]
  },
  {
   "cell_type": "markdown",
   "id": "157258b0-8b32-4c47-a132-024765d11c18",
   "metadata": {},
   "source": [
    "### Generating the Model with LASSO ###"
   ]
  },
  {
   "cell_type": "code",
   "execution_count": null,
   "id": "b4be003b-c960-4ec5-aa63-37665c9f556d",
   "metadata": {},
   "outputs": [],
   "source": [
    "# split datasets into x matrix and y matrix for training and testing\n",
    "data_X_train <- training_data %>% select(-\"actual_productivity\")  %>% data.matrix()\n",
    "data_Y_train <- training_data %>% select(\"actual_productivity\")  %>% data.matrix()\n",
    "\n",
    "data_X_test <- testing_data %>% select(-\"actual_productivity\")  %>% data.matrix()\n",
    "data_Y_test <- testing_data %>% select(\"actual_productivity\")  %>% data.matrix()"
   ]
  },
  {
   "cell_type": "code",
   "execution_count": null,
   "id": "1cbeb8d2-9fe6-4689-bad0-d55d18de3785",
   "metadata": {},
   "outputs": [],
   "source": [
    "# find an \"optimal\" value of lambda using the function cv.glmnet()\n",
    "data_cv_lambda_LASSO <- cv.glmnet(\n",
    "  x = data_X_train, y = data_Y_train,\n",
    "  alpha = 1)"
   ]
  },
  {
   "cell_type": "code",
   "execution_count": null,
   "id": "d24d441d-0299-4b20-b088-a863fadab4d8",
   "metadata": {},
   "outputs": [],
   "source": [
    "# visualize how the estimated test-MSE changes for different values of lambda\n",
    "cat(\"Figure 8: Lambda Selection by CV with LASSO\")\n",
    "plot(data_cv_lambda_LASSO, main = \"Lambda Selection by CV with LASSO\")\n",
    "\n",
    "# store the lambda value which provide the minimum estimated test-MSE\n",
    "lambda_min_MSE_LASSO <- round(data_cv_lambda_LASSO$lambda.min, 4)"
   ]
  },
  {
   "cell_type": "code",
   "execution_count": null,
   "id": "c111e6e9-8d11-4760-9c6e-ab15cd52950d",
   "metadata": {},
   "outputs": [],
   "source": [
    "# build a LASSO model \n",
    "data_LASSO_min <- glmnet(\n",
    "  x = data_X_train, y = data_Y_train,\n",
    "  alpha = 1,\n",
    "  lambda = lambda_min_MSE_LASSO\n",
    ")\n"
   ]
  },
  {
   "cell_type": "code",
   "execution_count": null,
   "id": "8a31600a-14c4-4e36-8e59-dff76ddfa10f",
   "metadata": {},
   "outputs": [],
   "source": [
    "# get the selected input variables by the LASSO model\n",
    "variables_selected_LASSO <- as_tibble(as.matrix(coef(data_LASSO_min)),rownames='covariate') %>%\n",
    "                              filter(covariate != '(Intercept)' & abs(s0) > 10e-6) %>% \n",
    "                              pull(covariate)\n",
    "#variables_selected_LASSO"
   ]
  },
  {
   "cell_type": "markdown",
   "id": "57140fe5-63da-42b4-afcc-8e0681b614d9",
   "metadata": {},
   "source": [
    "The variables selected in the model by LASSO were:  `targeted_productivity`, `smv`, `incentive`, `idle_men`, and `no_of_style_change`. "
   ]
  },
  {
   "cell_type": "code",
   "execution_count": null,
   "id": "7df745a6-9422-40f7-9cc8-75e3c7d6c130",
   "metadata": {},
   "outputs": [],
   "source": [
    "# the model selected by LASSO\n",
    "LASSO_model <- lm(actual_productivity ~ targeted_productivity +\n",
    "                    smv + incentive + idle_men + no_of_style_change, \n",
    "                  data = training_data)"
   ]
  },
  {
   "cell_type": "code",
   "execution_count": null,
   "id": "c9b8f87c",
   "metadata": {},
   "outputs": [],
   "source": [
    "# Checking assumptions of model selected by LASSO\n",
    "cat(\"Figure 9: Residuals and Q-Q Plot of Model Selected by LASSO\")\n",
    "plot(LASSO_model, 1:2)"
   ]
  },
  {
   "cell_type": "markdown",
   "id": "dc2f922d",
   "metadata": {},
   "source": [
    "Much like the model chosen by forward selection, the residual plot for the model selected by LASSO suggests unequal variance, and the Q-Q plot above suggests a normality violation of the variables. Attempts to mitigate this issue have failed, meaning we will have to continue with our analysis with very strong assumptions of our data.\n"
   ]
  },
  {
   "cell_type": "code",
   "execution_count": null,
   "id": "74309293",
   "metadata": {},
   "outputs": [],
   "source": [
    "# Adjusted R^2 for the model selected by LASSO\n",
    "adj_r_squared_LASSO <- summary(LASSO_model)$adj.r.squared \n",
    "cat(\"Adjusted R^2 for Selected Model Using LASSO:\")\n",
    "adj_r_squared_LASSO"
   ]
  },
  {
   "cell_type": "code",
   "execution_count": null,
   "id": "cec8e7a7-f8be-4614-bc5d-969884390717",
   "metadata": {},
   "outputs": [],
   "source": [
    "# F-test for full model and LASSO model\n",
    "cat(\"Table 10: F-test for Full and Model Selected with LASSO\")\n",
    "anova(LASSO_model, full_model)"
   ]
  },
  {
   "cell_type": "markdown",
   "id": "f3bdcb91-37d3-43b4-bf88-6537dfcd81a1",
   "metadata": {},
   "source": [
    "Since the p-value is 0.351, at a 5% significance level, there is not sufficient evidence to reject the null hypothesis that the selected model by LASSO performs better than the full model."
   ]
  },
  {
   "cell_type": "code",
   "execution_count": null,
   "id": "b161e0d9",
   "metadata": {},
   "outputs": [],
   "source": [
    "cat(\"Table 11: Summary Table for Selected Model with Testing Data\")\n",
    "model_2 <- lm(actual_productivity ~ targeted_productivity +\n",
    "                    smv + incentive + idle_men + no_of_style_change, \n",
    "              data = testing_data)\n",
    "model_summary_2 <- tidy(model_2)\n",
    "model_summary_2\n",
    "\n",
    "adj_r_squared_2 <- summary(model_2)$adj.r.squared \n",
    "cat(\"Adjusted R^2 for LASSO Selected Model Using Testing Data:\")\n",
    "adj_r_squared_2"
   ]
  },
  {
   "cell_type": "markdown",
   "id": "49b539b7",
   "metadata": {},
   "source": [
    "The adjusted $R^2$ suggests that about 16.9% of the adjusted variation in the response is explained by model. This reveals that forward selection performed slightly better in producing an inference model for the actual productivity of the factory."
   ]
  },
  {
   "cell_type": "markdown",
   "id": "2da53e29-690a-4f5d-a1fa-7bf57ee480ae",
   "metadata": {},
   "source": [
    "# Discussion #\n",
    "\n",
    "## Findings ##\n",
    "### Model Selection with Forward Selection and LASSO ###\n",
    "\n",
    "The variables selected from forward selection in our model were: `targeted_productivity`, `smv`, `wip`, `incentive`, `idle_men`, and `no_of_style_change`. The variables selected from LASSO in our model were:  `targeted_productivity`, `smv`, `incentive`, `idle_men`, and `no_of_style_change`.\n",
    "\n",
    "Both of the models produced a fairly poor adjusted $R^2$ values of 0.17 and 0.169 when testing the model with the testing data. Additionally, neither of the selected models were significantly better than the full model according to the corresponding F-tests. \n",
    "\n",
    "### Limitations ###\n",
    "The relatively poor performance of both selected models and the non-significant results from the corresponding F-tests may be due to the assumptions made throughout our analysis. The techniques learned in this class were likely not able to overcome the limitations and assumptions made throughout our analysis. As shown by the various model assumption plots (Figures 5,7,9) throughout the analysis, the assumptions of equal variance and normality were used when analyzing the response variable, as well as both of the models selected via forward selection and LASSO. \n",
    "\n",
    "The assumption of normality was required for the F-tests used near the end of our analysis. With our diagnostic plots shown earlier showing some violation of the assumption, it may impact our results when testing for whether the models we selected were statistically different than the full model.\n",
    "\n",
    "Another factor that may have led to our results being non-significant relative to the full model is the response variable (`actual productivity`) ranges from 0 to 1 while our explanatory variables have much broader ranges. In addition, the variables `wip`, `incentive`, `idle_time`, and `idle_men`, used in our analysis contained a large amount of 0s with a few observed large values leading to abnormal distributions of values.\n",
    "\n",
    "These issues regarding normality and heteroskedasticity in our data and models may have resulted in inaccurate standard errors and thus induced lower precision from coefficient estimates, as well as inaccurate p-values and F-statistics. These limitations may have affected the statistical significance of our results.\n",
    "\n",
    "\n",
    "### Impact ###\n",
    "\n",
    "The common variables included from both forward selection and LASSO were `targeted_productivity`, `smv`, `incentive`, `idle_men`, and `no_of_style_change`. The models suggest that the daily set productivity, allocated time for a task, financial incentive, number of idle workers, and number of style changes have the strongest correlation with actual productivity. These findings can drive business decisions of those in management and leadership positions as they could potentially manipulate each variable to drive the highest amount of productivity, and thus, profit. For example, a higher monetary incentive per item will motivate workers to be more efficient, and can have higher payoffs overall, though one should be cautious of unsatisfactory work.\n",
    "\n",
    "The study “Enhancing Efficiency and Productivity of Garment Industry by Using Different Techniques” relays methods of increasing productivity by eliminating factors such as idle time, related to the ‘idle_men’ variable in our model. These methods include time study, implementing a visual management system, and standardized work procedures which increased efficiency by 8.07% (Rajput et al., 2018). Focussing on decreasing the number of style changes through process management can also increase productivity where less set-up and transition times between patterns reduce time wasted. “The effect of lean on occupational health and safety and productivity in the garment industry” outlines lean methodology where waste is minimized by reducing variability on all fronts of production (Hamja et al., 2019). While there is evidence of positive effects on productivity by using lean, the literature also points to a potential negative impact on workers’ health– which morally outweighs monetary profit (Hamja et al., 2019).\n",
    "\n",
    "\n",
    "### Future Questions ###\n",
    "\n",
    "This study prompts further questions about the garment industry. How can we improve these variables to have a more efficient productivity? What is the threshold of which productivity is maximized? What other variables outside of this dataset, particularly involving technological innovation, affect productivity? What is the environmental impact of increasing productivity?"
   ]
  },
  {
   "cell_type": "markdown",
   "id": "250be2af-f046-45f5-9aac-4f4ac26ffb88",
   "metadata": {},
   "source": [
    "# References #\n",
    "### Data Set: ###\n",
    "Siri, S. (2021, April 6). Productivity prediction of garment employees. Kaggle. Retrieved November 4, 2022, from https://www.kaggle.com/datasets/ishadss/productivity-prediction-of-garment-employees \n",
    "### Research Articles: ###\n",
    "Hamja, A., Maalouf, M., &amp; Hasle, P. (2019). The effect of lean on occupational health and safety and productivity in the garment industry – a literature review. Production &amp; Manufacturing Research, 7(1), 316–334. https://doi.org/10.1080/21693277.2019.1620652\n",
    "\n",
    "Imran, A. A., Amin, M. N., Islam Rifat, M. R., & Mehreen, S. (2019). Deep Neural Network Approach for Predicting the Productivity of Garment Employees. 2019 6th International Conference on Control, Decision and Information Technologies (CoDIT). https://doi.org/10.1109/CoDIT.2019.8820486\n",
    "\n",
    "Rahim, M. S., Imran, A. A., & Ahmed, T. (2021). Mining the Productivity Data of Garment Industry. International Journal of Business Intelligence and Data Mining, 1(1), 1. https://doi.org/10.1504/IJBIDM.2021.118183\n",
    "\n",
    "Rajput, D., Kakde, M., Chandurkar, P., & Raichurkar, P. P. (2018). Enhancing efficiency and productivity of garment industry by using different techniques. International Journal on Textile Engineering and Processes, 4(1), 5-8.\n",
    "\n"
   ]
  }
 ],
 "metadata": {
  "kernelspec": {
   "display_name": "R",
   "language": "R",
   "name": "ir"
  },
  "language_info": {
   "codemirror_mode": "r",
   "file_extension": ".r",
   "mimetype": "text/x-r-source",
   "name": "R",
   "pygments_lexer": "r",
   "version": "4.2.2"
  }
 },
 "nbformat": 4,
 "nbformat_minor": 5
}
